{
 "cells": [
  {
   "cell_type": "markdown",
   "id": "39a08fee-3444-435a-b715-d78c24378bd3",
   "metadata": {},
   "source": [
    "**Logical operator**"
   ]
  },
  {
   "cell_type": "code",
   "execution_count": 1,
   "id": "50bbf193-0e53-4e83-ae7b-83854f3883c3",
   "metadata": {},
   "outputs": [],
   "source": [
    "# And,or ,not "
   ]
  },
  {
   "cell_type": "code",
   "execution_count": 2,
   "id": "bde95a67-4c95-4319-9457-db580f1b4dd4",
   "metadata": {},
   "outputs": [],
   "source": [
    "a = 5\n",
    "b = 4"
   ]
  },
  {
   "cell_type": "code",
   "execution_count": 3,
   "id": "ce80ebef-8d28-4b3a-beea-92a93192e992",
   "metadata": {},
   "outputs": [
    {
     "data": {
      "text/plain": [
       "True"
      ]
     },
     "execution_count": 3,
     "metadata": {},
     "output_type": "execute_result"
    }
   ],
   "source": [
    "a < 8 and b < 5"
   ]
  },
  {
   "cell_type": "code",
   "execution_count": 4,
   "id": "185682e1-0406-45ad-81e4-21551557cd0a",
   "metadata": {},
   "outputs": [
    {
     "data": {
      "text/plain": [
       "False"
      ]
     },
     "execution_count": 4,
     "metadata": {},
     "output_type": "execute_result"
    }
   ],
   "source": [
    "a < 8 and b < 2"
   ]
  },
  {
   "cell_type": "code",
   "execution_count": 5,
   "id": "e86b1961-62b4-4e54-9a50-bae371b1f5a2",
   "metadata": {},
   "outputs": [
    {
     "data": {
      "text/plain": [
       "False"
      ]
     },
     "execution_count": 5,
     "metadata": {},
     "output_type": "execute_result"
    }
   ],
   "source": [
    "a>8 or b<2"
   ]
  },
  {
   "cell_type": "code",
   "execution_count": 6,
   "id": "113b4fa7-127b-424d-be7e-2acb9add3f0c",
   "metadata": {},
   "outputs": [
    {
     "data": {
      "text/plain": [
       "False"
      ]
     },
     "execution_count": 6,
     "metadata": {},
     "output_type": "execute_result"
    }
   ],
   "source": [
    "x = False\n",
    "x"
   ]
  },
  {
   "cell_type": "code",
   "execution_count": 7,
   "id": "22e9c035-52fd-4428-899c-1ad9142b3430",
   "metadata": {},
   "outputs": [
    {
     "data": {
      "text/plain": [
       "True"
      ]
     },
     "execution_count": 7,
     "metadata": {},
     "output_type": "execute_result"
    }
   ],
   "source": [
    "not x"
   ]
  },
  {
   "cell_type": "markdown",
   "id": "b991f207-7495-476a-88ec-2e54553f7469",
   "metadata": {},
   "source": [
    "**Number System**"
   ]
  },
  {
   "cell_type": "code",
   "execution_count": 10,
   "id": "c3a6acbe-c4e9-4329-9208-a11c13459104",
   "metadata": {},
   "outputs": [],
   "source": [
    "# Binary - base 2,octal- base 8,decimal-base 10,hexadecimal- base 16"
   ]
  },
  {
   "cell_type": "code",
   "execution_count": 11,
   "id": "0a0389b8-3dae-47f1-9455-31807476a371",
   "metadata": {},
   "outputs": [
    {
     "data": {
      "text/plain": [
       "25"
      ]
     },
     "execution_count": 11,
     "metadata": {},
     "output_type": "execute_result"
    }
   ],
   "source": [
    "25"
   ]
  },
  {
   "cell_type": "code",
   "execution_count": 12,
   "id": "8630b341-f821-450a-a56b-1fdff8c32bf4",
   "metadata": {},
   "outputs": [
    {
     "data": {
      "text/plain": [
       "'0b11001'"
      ]
     },
     "execution_count": 12,
     "metadata": {},
     "output_type": "execute_result"
    }
   ],
   "source": [
    "bin(25)"
   ]
  },
  {
   "cell_type": "code",
   "execution_count": 13,
   "id": "e5d8178f-773b-4c0a-bf62-c547868de92b",
   "metadata": {},
   "outputs": [
    {
     "data": {
      "text/plain": [
       "25"
      ]
     },
     "execution_count": 13,
     "metadata": {},
     "output_type": "execute_result"
    }
   ],
   "source": [
    "int(0b11001)"
   ]
  },
  {
   "cell_type": "code",
   "execution_count": 14,
   "id": "f8fa50dc-3d69-4539-bc64-1bc833414165",
   "metadata": {},
   "outputs": [
    {
     "data": {
      "text/plain": [
       "'0o31'"
      ]
     },
     "execution_count": 14,
     "metadata": {},
     "output_type": "execute_result"
    }
   ],
   "source": [
    "oct(25)"
   ]
  },
  {
   "cell_type": "code",
   "execution_count": 15,
   "id": "5bd4c173-e2ae-4cea-a31f-275d829f221d",
   "metadata": {},
   "outputs": [
    {
     "data": {
      "text/plain": [
       "25"
      ]
     },
     "execution_count": 15,
     "metadata": {},
     "output_type": "execute_result"
    }
   ],
   "source": [
    "int(0o31)"
   ]
  },
  {
   "cell_type": "code",
   "execution_count": 16,
   "id": "0c1f46fa-6f25-4e27-b6ba-2c2a2c21ea3d",
   "metadata": {},
   "outputs": [
    {
     "data": {
      "text/plain": [
       "'0x1'"
      ]
     },
     "execution_count": 16,
     "metadata": {},
     "output_type": "execute_result"
    }
   ],
   "source": [
    "hex(1)"
   ]
  },
  {
   "cell_type": "code",
   "execution_count": 17,
   "id": "3baabffd-b8c2-4f7d-a043-6b6c013e21e7",
   "metadata": {},
   "outputs": [
    {
     "data": {
      "text/plain": [
       "'0x8'"
      ]
     },
     "execution_count": 17,
     "metadata": {},
     "output_type": "execute_result"
    }
   ],
   "source": [
    "hex(8)"
   ]
  },
  {
   "cell_type": "code",
   "execution_count": 18,
   "id": "dade9d76-214b-4f7f-81d4-a22d2e2a15db",
   "metadata": {},
   "outputs": [
    {
     "data": {
      "text/plain": [
       "'0xa'"
      ]
     },
     "execution_count": 18,
     "metadata": {},
     "output_type": "execute_result"
    }
   ],
   "source": [
    "hex(10)"
   ]
  },
  {
   "cell_type": "code",
   "execution_count": 19,
   "id": "ba6ec3f3-3b0a-4229-b596-5d5838ee8c05",
   "metadata": {},
   "outputs": [
    {
     "data": {
      "text/plain": [
       "'0x10'"
      ]
     },
     "execution_count": 19,
     "metadata": {},
     "output_type": "execute_result"
    }
   ],
   "source": [
    "hex(16)"
   ]
  },
  {
   "cell_type": "code",
   "execution_count": 20,
   "id": "a8b50d94-34b9-4c8b-b4d1-76bea7d57d9e",
   "metadata": {},
   "outputs": [
    {
     "data": {
      "text/plain": [
       "16"
      ]
     },
     "execution_count": 20,
     "metadata": {},
     "output_type": "execute_result"
    }
   ],
   "source": [
    "0x10"
   ]
  },
  {
   "cell_type": "code",
   "execution_count": 21,
   "id": "132ed467-1e85-49c9-877d-68da2c4bb8d7",
   "metadata": {},
   "outputs": [],
   "source": [
    "# Swap two variables"
   ]
  },
  {
   "cell_type": "code",
   "execution_count": 22,
   "id": "264c62a8-290f-4fde-91e8-163d071ae260",
   "metadata": {},
   "outputs": [],
   "source": [
    "a = 5\n",
    "b = 6"
   ]
  },
  {
   "cell_type": "code",
   "execution_count": 24,
   "id": "14712bdc-c7ed-4d12-af3c-15b167735508",
   "metadata": {},
   "outputs": [
    {
     "name": "stdout",
     "output_type": "stream",
     "text": [
      "6\n",
      "6\n"
     ]
    }
   ],
   "source": [
    "a=b\n",
    "b=a\n",
    "print(a)\n",
    "print(b)"
   ]
  },
  {
   "cell_type": "code",
   "execution_count": 25,
   "id": "e0c36dad-78fe-4d9d-8eee-3fdec9e6a9c1",
   "metadata": {},
   "outputs": [],
   "source": [
    "a1 = 7\n",
    "b1 = 8"
   ]
  },
  {
   "cell_type": "code",
   "execution_count": 26,
   "id": "942458fc-d65b-40bb-b071-5424e57d63a4",
   "metadata": {},
   "outputs": [],
   "source": [
    "temp = a1\n",
    "a1 = b1\n",
    "b1 = temp"
   ]
  },
  {
   "cell_type": "code",
   "execution_count": 27,
   "id": "915a43e4-087c-4690-8e89-6bd462862dae",
   "metadata": {},
   "outputs": [
    {
     "name": "stdout",
     "output_type": "stream",
     "text": [
      "8\n",
      "7\n"
     ]
    }
   ],
   "source": [
    "print(a1)\n",
    "print(b1)"
   ]
  },
  {
   "cell_type": "code",
   "execution_count": 28,
   "id": "4c6d36fc-fed9-459a-aa4b-1c90f245130d",
   "metadata": {},
   "outputs": [],
   "source": [
    "a2 = 5\n",
    "b2 = 6"
   ]
  },
  {
   "cell_type": "code",
   "execution_count": 29,
   "id": "33cde387-9329-4626-befc-ebe1cc55972e",
   "metadata": {},
   "outputs": [],
   "source": [
    "a2 = a2 + b2\n",
    "b2 = a2 - b2\n",
    "a2 = a2 - b2\n"
   ]
  },
  {
   "cell_type": "code",
   "execution_count": 30,
   "id": "ea8f8038-517e-44a7-9d98-b996055c6690",
   "metadata": {},
   "outputs": [
    {
     "name": "stdout",
     "output_type": "stream",
     "text": [
      "6\n",
      "5\n"
     ]
    }
   ],
   "source": [
    "print(a2)\n",
    "print(b2)"
   ]
  },
  {
   "cell_type": "code",
   "execution_count": 31,
   "id": "be8497f8-788e-4c0f-92c9-a10bb6245b82",
   "metadata": {},
   "outputs": [],
   "source": [
    "a2 , b2 = b2 , a2"
   ]
  },
  {
   "cell_type": "code",
   "execution_count": 32,
   "id": "18bf2d5a-11e1-498c-8a32-e14d027b0e70",
   "metadata": {},
   "outputs": [
    {
     "name": "stdout",
     "output_type": "stream",
     "text": [
      "5\n",
      "6\n"
     ]
    }
   ],
   "source": [
    "print(a2)\n",
    "print(b2)"
   ]
  },
  {
   "cell_type": "markdown",
   "id": "253ace14-9dcc-480d-8ba5-a10b42f95153",
   "metadata": {},
   "source": [
    "**BITWISE OPERATOR**"
   ]
  },
  {
   "cell_type": "code",
   "execution_count": 34,
   "id": "804d522d-c91a-4915-9956-ed4be9f6773d",
   "metadata": {},
   "outputs": [],
   "source": [
    "# complement ~ , and & , or | , xor ^ , left shift <<  , right shift >>"
   ]
  },
  {
   "cell_type": "code",
   "execution_count": 35,
   "id": "fa013042-14ef-43eb-a02d-d4ee7a663521",
   "metadata": {},
   "outputs": [
    {
     "data": {
      "text/plain": [
       "-13"
      ]
     },
     "execution_count": 35,
     "metadata": {},
     "output_type": "execute_result"
    }
   ],
   "source": [
    "~ 12"
   ]
  },
  {
   "cell_type": "code",
   "execution_count": 36,
   "id": "fdb857c5-bd8b-4af4-af8f-8315e44f3f9c",
   "metadata": {},
   "outputs": [
    {
     "data": {
      "text/plain": [
       "-2"
      ]
     },
     "execution_count": 36,
     "metadata": {},
     "output_type": "execute_result"
    }
   ],
   "source": [
    "~1"
   ]
  },
  {
   "cell_type": "code",
   "execution_count": 37,
   "id": "430926f7-1614-4ca7-a843-3eea9eb54918",
   "metadata": {},
   "outputs": [
    {
     "data": {
      "text/plain": [
       "-57"
      ]
     },
     "execution_count": 37,
     "metadata": {},
     "output_type": "execute_result"
    }
   ],
   "source": [
    "~56"
   ]
  },
  {
   "cell_type": "code",
   "execution_count": 38,
   "id": "addc2694-02b3-46d5-a972-701bf0ca1b25",
   "metadata": {},
   "outputs": [
    {
     "data": {
      "text/plain": [
       "-47"
      ]
     },
     "execution_count": 38,
     "metadata": {},
     "output_type": "execute_result"
    }
   ],
   "source": [
    "~46"
   ]
  },
  {
   "cell_type": "code",
   "execution_count": 44,
   "id": "7bbf0d99-decd-4eba-aacf-5cad4bd35a48",
   "metadata": {},
   "outputs": [],
   "source": [
    "# Bitwise And OR  operator"
   ]
  },
  {
   "cell_type": "code",
   "execution_count": 40,
   "id": "81e7bbbf-9ef9-4875-a73b-f7395ce567fe",
   "metadata": {},
   "outputs": [
    {
     "data": {
      "text/plain": [
       "12"
      ]
     },
     "execution_count": 40,
     "metadata": {},
     "output_type": "execute_result"
    }
   ],
   "source": [
    "12 & 13"
   ]
  },
  {
   "cell_type": "code",
   "execution_count": 41,
   "id": "ff0a7bdd-7674-4ec2-931d-79af930d4753",
   "metadata": {},
   "outputs": [
    {
     "data": {
      "text/plain": [
       "13"
      ]
     },
     "execution_count": 41,
     "metadata": {},
     "output_type": "execute_result"
    }
   ],
   "source": [
    "12 | 13 "
   ]
  },
  {
   "cell_type": "code",
   "execution_count": 42,
   "id": "bde47eca-85be-4d47-9156-85c9260fadc4",
   "metadata": {},
   "outputs": [
    {
     "data": {
      "text/plain": [
       "1"
      ]
     },
     "execution_count": 42,
     "metadata": {},
     "output_type": "execute_result"
    }
   ],
   "source": [
    "1 | 0"
   ]
  },
  {
   "cell_type": "code",
   "execution_count": 43,
   "id": "c75789b1-109a-46e1-b9ea-75947ed4a505",
   "metadata": {},
   "outputs": [
    {
     "data": {
      "text/plain": [
       "0"
      ]
     },
     "execution_count": 43,
     "metadata": {},
     "output_type": "execute_result"
    }
   ],
   "source": [
    "1 & 0"
   ]
  },
  {
   "cell_type": "code",
   "execution_count": 45,
   "id": "eccfface-7c74-46f9-802a-6ebdc69c6650",
   "metadata": {},
   "outputs": [],
   "source": [
    "# XOR operator"
   ]
  },
  {
   "cell_type": "code",
   "execution_count": 46,
   "id": "a8d037ed-e969-4cc1-a7a5-c5cbbe832493",
   "metadata": {},
   "outputs": [
    {
     "data": {
      "text/plain": [
       "1"
      ]
     },
     "execution_count": 46,
     "metadata": {},
     "output_type": "execute_result"
    }
   ],
   "source": [
    "12 ^ 13"
   ]
  },
  {
   "cell_type": "code",
   "execution_count": 47,
   "id": "c5063669-531d-49b8-9d5a-043047c1904f",
   "metadata": {},
   "outputs": [
    {
     "data": {
      "text/plain": [
       "7"
      ]
     },
     "execution_count": 47,
     "metadata": {},
     "output_type": "execute_result"
    }
   ],
   "source": [
    "25 ^ 30"
   ]
  },
  {
   "cell_type": "code",
   "execution_count": 48,
   "id": "73616ff5-29a6-4ab8-bd4f-21e9a3e282f4",
   "metadata": {},
   "outputs": [],
   "source": [
    "# Left shift and right shift"
   ]
  },
  {
   "cell_type": "code",
   "execution_count": 49,
   "id": "1a2c8ab4-9b1f-4c00-82e4-416cc6af41f1",
   "metadata": {},
   "outputs": [
    {
     "data": {
      "text/plain": [
       "48"
      ]
     },
     "execution_count": 49,
     "metadata": {},
     "output_type": "execute_result"
    }
   ],
   "source": [
    " 12 << 2"
   ]
  },
  {
   "cell_type": "code",
   "execution_count": 50,
   "id": "791afb94-64fb-4d20-ad59-2ef7acd3db89",
   "metadata": {},
   "outputs": [
    {
     "data": {
      "text/plain": [
       "20"
      ]
     },
     "execution_count": 50,
     "metadata": {},
     "output_type": "execute_result"
    }
   ],
   "source": [
    " 10<<1"
   ]
  },
  {
   "cell_type": "code",
   "execution_count": 51,
   "id": "9f6b3c81-2335-4286-9b6e-ac431f33ed6d",
   "metadata": {},
   "outputs": [
    {
     "data": {
      "text/plain": [
       "40"
      ]
     },
     "execution_count": 51,
     "metadata": {},
     "output_type": "execute_result"
    }
   ],
   "source": [
    "10 << 2"
   ]
  },
  {
   "cell_type": "code",
   "execution_count": 52,
   "id": "1550d00c-9061-4055-96ad-94247d3d7d08",
   "metadata": {},
   "outputs": [
    {
     "data": {
      "text/plain": [
       "5"
      ]
     },
     "execution_count": 52,
     "metadata": {},
     "output_type": "execute_result"
    }
   ],
   "source": [
    "10 >> 1"
   ]
  },
  {
   "cell_type": "code",
   "execution_count": 53,
   "id": "01c456bb-b8b6-443b-9139-f219ec4e16a3",
   "metadata": {},
   "outputs": [
    {
     "data": {
      "text/plain": [
       "1"
      ]
     },
     "execution_count": 53,
     "metadata": {},
     "output_type": "execute_result"
    }
   ],
   "source": [
    "10 >> 3"
   ]
  },
  {
   "cell_type": "code",
   "execution_count": 54,
   "id": "d7247662-9091-4e2c-bcbb-60fddbf174bf",
   "metadata": {},
   "outputs": [
    {
     "data": {
      "text/plain": [
       "1"
      ]
     },
     "execution_count": 54,
     "metadata": {},
     "output_type": "execute_result"
    }
   ],
   "source": [
    "20 >> 4"
   ]
  },
  {
   "cell_type": "code",
   "execution_count": null,
   "id": "e9bace2c-e4f3-482e-afd5-36ebb42d7e6c",
   "metadata": {},
   "outputs": [],
   "source": []
  }
 ],
 "metadata": {
  "kernelspec": {
   "display_name": "Python 3 (ipykernel)",
   "language": "python",
   "name": "python3"
  },
  "language_info": {
   "codemirror_mode": {
    "name": "ipython",
    "version": 3
   },
   "file_extension": ".py",
   "mimetype": "text/x-python",
   "name": "python",
   "nbconvert_exporter": "python",
   "pygments_lexer": "ipython3",
   "version": "3.11.7"
  }
 },
 "nbformat": 4,
 "nbformat_minor": 5
}
