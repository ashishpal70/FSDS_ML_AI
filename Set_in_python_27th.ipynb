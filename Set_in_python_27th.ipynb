{
 "cells": [
  {
   "cell_type": "markdown",
   "id": "4578d62e-f758-40b7-bdc4-44da569bcd6c",
   "metadata": {},
   "source": [
    "Set"
   ]
  },
  {
   "cell_type": "code",
   "execution_count": 1,
   "id": "9eed77a4-208f-4bbf-8fb6-ec021d56a596",
   "metadata": {},
   "outputs": [
    {
     "data": {
      "text/plain": [
       "set()"
      ]
     },
     "execution_count": 1,
     "metadata": {},
     "output_type": "execute_result"
    }
   ],
   "source": [
    "s2 =set()\n",
    "s2"
   ]
  },
  {
   "cell_type": "code",
   "execution_count": 2,
   "id": "40a563fb-f5e5-44a9-9a97-a60cefd11891",
   "metadata": {},
   "outputs": [],
   "source": [
    "s2.add(10)\n",
    "s2.add(1.2)\n",
    "s2.add(1+2j)\n",
    "s2.add(True)\n",
    "s2.add('nit')"
   ]
  },
  {
   "cell_type": "code",
   "execution_count": 3,
   "id": "49baf524-6248-43e6-8717-beef928ace1d",
   "metadata": {},
   "outputs": [
    {
     "data": {
      "text/plain": [
       "{(1+2j), 1.2, 10, True, 'nit'}"
      ]
     },
     "execution_count": 3,
     "metadata": {},
     "output_type": "execute_result"
    }
   ],
   "source": [
    "s2"
   ]
  },
  {
   "cell_type": "code",
   "execution_count": 4,
   "id": "646a61a5-27c1-4c89-aa48-1743ff9b7b98",
   "metadata": {},
   "outputs": [],
   "source": [
    "# append add to the last"
   ]
  },
  {
   "cell_type": "code",
   "execution_count": 5,
   "id": "84f7c577-2a10-4e5e-8f5c-252cf25a4c03",
   "metadata": {},
   "outputs": [
    {
     "name": "stdout",
     "output_type": "stream",
     "text": [
      "{1.2, True, (1+2j), 10, 'nit'}\n"
     ]
    }
   ],
   "source": [
    "print(s2)"
   ]
  },
  {
   "cell_type": "code",
   "execution_count": 6,
   "id": "9a2970cd-bc11-4c6c-82c8-b2808d678f96",
   "metadata": {},
   "outputs": [],
   "source": [
    "# Set is order or unorder ? If in set if you declare similar data type then its orderd else it is unordered\n",
    "# indexing and slicing is not allowed in set"
   ]
  },
  {
   "cell_type": "code",
   "execution_count": 8,
   "id": "e00a7104-9a0a-4b49-896a-db679cf411ef",
   "metadata": {},
   "outputs": [
    {
     "data": {
      "text/plain": [
       "{(1+2j), 1.2, 10, True, 'nit'}"
      ]
     },
     "execution_count": 8,
     "metadata": {},
     "output_type": "execute_result"
    }
   ],
   "source": [
    "S3 = s2.copy()\n",
    "S3"
   ]
  },
  {
   "cell_type": "code",
   "execution_count": 10,
   "id": "f8a467f0-de6c-42b7-9989-16544a8b3d41",
   "metadata": {},
   "outputs": [
    {
     "data": {
      "text/plain": [
       "True"
      ]
     },
     "execution_count": 10,
     "metadata": {},
     "output_type": "execute_result"
    }
   ],
   "source": [
    "s2 == S3"
   ]
  },
  {
   "cell_type": "code",
   "execution_count": 11,
   "id": "de016e73-3b9b-4a08-8b93-0e4e50658a78",
   "metadata": {},
   "outputs": [
    {
     "data": {
      "text/plain": [
       "{(1+2j), 1.2, 10, True, 'nit'}"
      ]
     },
     "execution_count": 11,
     "metadata": {},
     "output_type": "execute_result"
    }
   ],
   "source": [
    "s2"
   ]
  },
  {
   "cell_type": "code",
   "execution_count": 13,
   "id": "71ae5e28-6b66-41e1-a356-c222164d0b8c",
   "metadata": {},
   "outputs": [
    {
     "data": {
      "text/plain": [
       "1.2"
      ]
     },
     "execution_count": 13,
     "metadata": {},
     "output_type": "execute_result"
    }
   ],
   "source": [
    "s2.pop()"
   ]
  },
  {
   "cell_type": "code",
   "execution_count": 14,
   "id": "5e2536d2-b7ca-4074-a586-2b4f75b9aff8",
   "metadata": {},
   "outputs": [
    {
     "data": {
      "text/plain": [
       "{(1+2j), 10, True, 'nit'}"
      ]
     },
     "execution_count": 14,
     "metadata": {},
     "output_type": "execute_result"
    }
   ],
   "source": [
    "s2"
   ]
  },
  {
   "cell_type": "code",
   "execution_count": 15,
   "id": "269a4751-8554-42c6-8fe5-23c00b1571a8",
   "metadata": {},
   "outputs": [
    {
     "data": {
      "text/plain": [
       "True"
      ]
     },
     "execution_count": 15,
     "metadata": {},
     "output_type": "execute_result"
    }
   ],
   "source": [
    " s2.pop()  #it delete randomly there is no order"
   ]
  },
  {
   "cell_type": "code",
   "execution_count": 17,
   "id": "4a971c1b-e686-4c3d-9d90-d0db369e9ff5",
   "metadata": {},
   "outputs": [
    {
     "data": {
      "text/plain": [
       "{(1+2j), 1.2, 10, True, 'nit'}"
      ]
     },
     "execution_count": 17,
     "metadata": {},
     "output_type": "execute_result"
    }
   ],
   "source": [
    "S3"
   ]
  },
  {
   "cell_type": "code",
   "execution_count": 18,
   "id": "44496b55-4f58-4b96-93ff-0bc5adec6068",
   "metadata": {},
   "outputs": [],
   "source": [
    "S3.remove((1+2j))"
   ]
  },
  {
   "cell_type": "code",
   "execution_count": 19,
   "id": "f605e451-89e8-4bda-953f-279743859413",
   "metadata": {},
   "outputs": [
    {
     "data": {
      "text/plain": [
       "{1.2, 10, True, 'nit'}"
      ]
     },
     "execution_count": 19,
     "metadata": {},
     "output_type": "execute_result"
    }
   ],
   "source": [
    "S3"
   ]
  },
  {
   "cell_type": "code",
   "execution_count": 20,
   "id": "db551259-02a8-4a5c-ae16-8d5690a87bc6",
   "metadata": {},
   "outputs": [
    {
     "ename": "KeyError",
     "evalue": "1000",
     "output_type": "error",
     "traceback": [
      "\u001b[1;31m---------------------------------------------------------------------------\u001b[0m",
      "\u001b[1;31mKeyError\u001b[0m                                  Traceback (most recent call last)",
      "Cell \u001b[1;32mIn[20], line 1\u001b[0m\n\u001b[1;32m----> 1\u001b[0m S3\u001b[38;5;241m.\u001b[39mremove(\u001b[38;5;241m1000\u001b[39m)\n",
      "\u001b[1;31mKeyError\u001b[0m: 1000"
     ]
    }
   ],
   "source": [
    "S3.remove(1000)"
   ]
  },
  {
   "cell_type": "code",
   "execution_count": 22,
   "id": "b9312e95-8ebf-4ceb-8619-3ee6ecfcf45c",
   "metadata": {},
   "outputs": [],
   "source": [
    "S3.discard(1000)"
   ]
  },
  {
   "cell_type": "code",
   "execution_count": 23,
   "id": "5d00c5b5-3add-4742-899b-9f6c9a68dc3b",
   "metadata": {},
   "outputs": [],
   "source": [
    "# Difference between discard and remove ? discard never gives you error , if the number is avialable then it will delete and remove gives error"
   ]
  },
  {
   "cell_type": "code",
   "execution_count": 24,
   "id": "36a60bd8-e852-46fc-957e-417a93caead9",
   "metadata": {},
   "outputs": [],
   "source": [
    "S3.discard(10)"
   ]
  },
  {
   "cell_type": "code",
   "execution_count": 25,
   "id": "0a80940a-d312-4811-88bd-d2cad3ffde20",
   "metadata": {},
   "outputs": [
    {
     "data": {
      "text/plain": [
       "{1.2, True, 'nit'}"
      ]
     },
     "execution_count": 25,
     "metadata": {},
     "output_type": "execute_result"
    }
   ],
   "source": [
    "S3"
   ]
  },
  {
   "cell_type": "code",
   "execution_count": 26,
   "id": "0d7fc9e4-3a68-4efe-a8e3-2c111615b583",
   "metadata": {},
   "outputs": [
    {
     "name": "stdout",
     "output_type": "stream",
     "text": [
      "{(1+2j), 10, 'nit'}\n",
      "{1.2, True, 'nit'}\n"
     ]
    }
   ],
   "source": [
    "print(s2)\n",
    "print(S3)"
   ]
  },
  {
   "cell_type": "code",
   "execution_count": null,
   "id": "d16f0a60-0de6-481b-bf00-52bd88ff652e",
   "metadata": {},
   "outputs": [],
   "source": [
    "# for loop"
   ]
  },
  {
   "cell_type": "code",
   "execution_count": 27,
   "id": "7a105054-4315-4e25-b90b-ef26eb356fd9",
   "metadata": {},
   "outputs": [
    {
     "name": "stdout",
     "output_type": "stream",
     "text": [
      "(1+2j)\n",
      "10\n",
      "nit\n"
     ]
    }
   ],
   "source": [
    "for i in s2:\n",
    "    print(i)"
   ]
  },
  {
   "cell_type": "code",
   "execution_count": 28,
   "id": "fb51f809-eb78-4545-bcc2-679f14a0b380",
   "metadata": {},
   "outputs": [
    {
     "name": "stdout",
     "output_type": "stream",
     "text": [
      "{(1+2j), 10, 'nit'}\n",
      "{(1+2j), 10, 'nit'}\n",
      "{(1+2j), 10, 'nit'}\n"
     ]
    }
   ],
   "source": [
    "for i in enumerate(s2):\n",
    "    print(s2)"
   ]
  },
  {
   "cell_type": "markdown",
   "id": "97a23468-d1ed-4d8e-9982-81215555be8d",
   "metadata": {},
   "source": [
    "Set Operations"
   ]
  },
  {
   "cell_type": "markdown",
   "id": "f2762de1-fb94-494e-8def-b20f111d88b1",
   "metadata": {},
   "source": [
    "Union"
   ]
  },
  {
   "cell_type": "code",
   "execution_count": 29,
   "id": "d68a81ce-5d7d-4733-9e7e-cb16a1446046",
   "metadata": {},
   "outputs": [],
   "source": [
    "a = {1,2,3,4,5}\n",
    "b = {4,5,6,7,8}\n",
    "c = {8,9,10}"
   ]
  },
  {
   "cell_type": "code",
   "execution_count": 30,
   "id": "e5979aad-d1fa-4ad1-9b92-40b46873dd16",
   "metadata": {},
   "outputs": [
    {
     "data": {
      "text/plain": [
       "{1, 2, 3, 4, 5, 6, 7, 8}"
      ]
     },
     "execution_count": 30,
     "metadata": {},
     "output_type": "execute_result"
    }
   ],
   "source": [
    "a.union(b)"
   ]
  },
  {
   "cell_type": "code",
   "execution_count": 31,
   "id": "c94f74d7-1bf4-4406-ae72-aa380551cf58",
   "metadata": {},
   "outputs": [
    {
     "data": {
      "text/plain": [
       "{1, 2, 3, 4, 5, 8, 9, 10}"
      ]
     },
     "execution_count": 31,
     "metadata": {},
     "output_type": "execute_result"
    }
   ],
   "source": [
    "a | c"
   ]
  },
  {
   "cell_type": "code",
   "execution_count": 32,
   "id": "70ed6a3f-b13f-49c9-8561-2bc45f5581dc",
   "metadata": {},
   "outputs": [
    {
     "data": {
      "text/plain": [
       "{4, 5, 6, 7, 8, 9, 10}"
      ]
     },
     "execution_count": 32,
     "metadata": {},
     "output_type": "execute_result"
    }
   ],
   "source": [
    "b | c"
   ]
  },
  {
   "cell_type": "code",
   "execution_count": 33,
   "id": "f18d5a29-eb5d-4a6a-91dd-d45abe75cc25",
   "metadata": {},
   "outputs": [
    {
     "data": {
      "text/plain": [
       "{1, 2, 3, 4, 5, 6, 7, 8, 9, 10}"
      ]
     },
     "execution_count": 33,
     "metadata": {},
     "output_type": "execute_result"
    }
   ],
   "source": [
    "a | b | c"
   ]
  },
  {
   "cell_type": "code",
   "execution_count": 34,
   "id": "ca8b026e-395a-4306-a3ac-fc1748004d10",
   "metadata": {},
   "outputs": [
    {
     "name": "stdout",
     "output_type": "stream",
     "text": [
      "{1, 2, 3, 4, 5}\n",
      "{4, 5, 6, 7, 8}\n",
      "{8, 9, 10}\n"
     ]
    }
   ],
   "source": [
    "print(a)\n",
    "print(b)\n",
    "print(c)"
   ]
  },
  {
   "cell_type": "code",
   "execution_count": 35,
   "id": "cf04c99a-ab60-405f-aef0-1f909dec1dec",
   "metadata": {},
   "outputs": [
    {
     "data": {
      "text/plain": [
       "{1, 2, 3}"
      ]
     },
     "execution_count": 35,
     "metadata": {},
     "output_type": "execute_result"
    }
   ],
   "source": [
    "a.difference(b)"
   ]
  },
  {
   "cell_type": "code",
   "execution_count": 36,
   "id": "c204dc4d-79b1-4514-8dcb-c7ed3b0103b6",
   "metadata": {},
   "outputs": [
    {
     "data": {
      "text/plain": [
       "{1, 2, 3, 4, 5}"
      ]
     },
     "execution_count": 36,
     "metadata": {},
     "output_type": "execute_result"
    }
   ],
   "source": [
    "a.difference(c)"
   ]
  },
  {
   "cell_type": "code",
   "execution_count": 37,
   "id": "9eeaf5bc-ffc2-420f-9acd-ce86c34827c0",
   "metadata": {},
   "outputs": [
    {
     "data": {
      "text/plain": [
       "{8, 9, 10}"
      ]
     },
     "execution_count": 37,
     "metadata": {},
     "output_type": "execute_result"
    }
   ],
   "source": [
    "c.difference(a)"
   ]
  },
  {
   "cell_type": "code",
   "execution_count": 38,
   "id": "5b0662ee-5ed8-49d9-95b2-71083284e442",
   "metadata": {},
   "outputs": [
    {
     "data": {
      "text/plain": [
       "{9, 10}"
      ]
     },
     "execution_count": 38,
     "metadata": {},
     "output_type": "execute_result"
    }
   ],
   "source": [
    "c.difference(b)"
   ]
  },
  {
   "cell_type": "code",
   "execution_count": 39,
   "id": "bd564082-72d6-450c-833a-dd9844718c33",
   "metadata": {},
   "outputs": [
    {
     "data": {
      "text/plain": [
       "{1, 2, 3, 6, 7, 8}"
      ]
     },
     "execution_count": 39,
     "metadata": {},
     "output_type": "execute_result"
    }
   ],
   "source": [
    "a.symmetric_difference(b)"
   ]
  },
  {
   "cell_type": "code",
   "execution_count": 40,
   "id": "7ef9b605-c583-4225-9a6c-66e6c9cf57c6",
   "metadata": {},
   "outputs": [],
   "source": [
    "a.symmetric_difference_update(b)"
   ]
  },
  {
   "cell_type": "code",
   "execution_count": 41,
   "id": "1e265462-f19c-4377-b794-2de77ac41def",
   "metadata": {},
   "outputs": [
    {
     "data": {
      "text/plain": [
       "{1, 2, 3, 6, 7, 8}"
      ]
     },
     "execution_count": 41,
     "metadata": {},
     "output_type": "execute_result"
    }
   ],
   "source": [
    "a"
   ]
  },
  {
   "cell_type": "code",
   "execution_count": 42,
   "id": "41caef1e-08ee-46aa-9b8f-6fa02a0642a3",
   "metadata": {},
   "outputs": [
    {
     "data": {
      "text/plain": [
       "{6, 7, 8}"
      ]
     },
     "execution_count": 42,
     "metadata": {},
     "output_type": "execute_result"
    }
   ],
   "source": [
    "a.intersection(b)"
   ]
  },
  {
   "cell_type": "code",
   "execution_count": 43,
   "id": "188265c4-6a60-4e31-a239-c0c559b81755",
   "metadata": {},
   "outputs": [
    {
     "name": "stdout",
     "output_type": "stream",
     "text": [
      "{1, 2, 3, 6, 7, 8}\n",
      "{4, 5, 6, 7, 8}\n",
      "{8, 9, 10}\n"
     ]
    }
   ],
   "source": [
    "print(a)\n",
    "print(b)\n",
    "print(c)\n"
   ]
  },
  {
   "cell_type": "code",
   "execution_count": 44,
   "id": "7333389f-58f3-4dfe-9922-4589bdab3344",
   "metadata": {},
   "outputs": [
    {
     "data": {
      "text/plain": [
       "{6, 7, 8}"
      ]
     },
     "execution_count": 44,
     "metadata": {},
     "output_type": "execute_result"
    }
   ],
   "source": [
    "a & b"
   ]
  },
  {
   "cell_type": "code",
   "execution_count": 45,
   "id": "b4f08669-57e1-4ee3-9df8-862580e59ab8",
   "metadata": {},
   "outputs": [
    {
     "data": {
      "text/plain": [
       "{8}"
      ]
     },
     "execution_count": 45,
     "metadata": {},
     "output_type": "execute_result"
    }
   ],
   "source": [
    "a & b & c"
   ]
  },
  {
   "cell_type": "code",
   "execution_count": 46,
   "id": "312b9182-5dad-4429-a4af-065ed5f7ec88",
   "metadata": {},
   "outputs": [
    {
     "name": "stdout",
     "output_type": "stream",
     "text": [
      "{1, 2, 3, 6, 7, 8}\n",
      "{4, 5, 6, 7, 8}\n",
      "{8, 9, 10}\n"
     ]
    }
   ],
   "source": [
    "print(a)\n",
    "print(b)\n",
    "print(c)"
   ]
  },
  {
   "cell_type": "code",
   "execution_count": 47,
   "id": "1da1364d-6d22-496c-bce2-115d17fe76c0",
   "metadata": {},
   "outputs": [],
   "source": [
    "c.intersection_update(b)"
   ]
  },
  {
   "cell_type": "code",
   "execution_count": 48,
   "id": "6b37ab68-58d8-4ed6-b051-fea4bed426ef",
   "metadata": {},
   "outputs": [],
   "source": [
    "a.intersection_update(b)"
   ]
  },
  {
   "cell_type": "code",
   "execution_count": 49,
   "id": "d3536ef5-bccf-478c-847b-6d508f476aef",
   "metadata": {},
   "outputs": [
    {
     "data": {
      "text/plain": [
       "{6, 7, 8}"
      ]
     },
     "execution_count": 49,
     "metadata": {},
     "output_type": "execute_result"
    }
   ],
   "source": [
    "a"
   ]
  },
  {
   "cell_type": "markdown",
   "id": "f9a585f7-67cc-4db6-86b0-fca9099f0813",
   "metadata": {},
   "source": [
    "Superset Subset disjoint"
   ]
  },
  {
   "cell_type": "code",
   "execution_count": 50,
   "id": "6606b034-f4bb-40c9-8a9a-dc6b34ee7957",
   "metadata": {},
   "outputs": [],
   "source": [
    "A = {1,2,3,4,5,6,7,8,9}\n",
    "B = {3,4,5,6,7,8}\n",
    "C = {10,20,30,40}"
   ]
  },
  {
   "cell_type": "code",
   "execution_count": 51,
   "id": "cc7693ef-4f53-4ecc-b02a-64fac5bebade",
   "metadata": {},
   "outputs": [
    {
     "data": {
      "text/plain": [
       "True"
      ]
     },
     "execution_count": 51,
     "metadata": {},
     "output_type": "execute_result"
    }
   ],
   "source": [
    "B.issubset(A)"
   ]
  },
  {
   "cell_type": "code",
   "execution_count": 52,
   "id": "cc6f3f7e-a6ac-4bde-b45a-d3abbc871afc",
   "metadata": {},
   "outputs": [
    {
     "data": {
      "text/plain": [
       "True"
      ]
     },
     "execution_count": 52,
     "metadata": {},
     "output_type": "execute_result"
    }
   ],
   "source": [
    "A.issuperset(B)"
   ]
  },
  {
   "cell_type": "code",
   "execution_count": 53,
   "id": "dd16af70-1ffa-4e26-9e66-b30f0fd63587",
   "metadata": {},
   "outputs": [
    {
     "data": {
      "text/plain": [
       "True"
      ]
     },
     "execution_count": 53,
     "metadata": {},
     "output_type": "execute_result"
    }
   ],
   "source": [
    "C.isdisjoint(A)"
   ]
  },
  {
   "cell_type": "code",
   "execution_count": 55,
   "id": "76abaacc-84d4-4f9d-86c0-445f50d899b1",
   "metadata": {},
   "outputs": [],
   "source": [
    "A1 = {15,25,35,45}\n",
    "B1 = {3,4,5,6,7,8}\n",
    "C1 = {10,20,30,40}"
   ]
  },
  {
   "cell_type": "code",
   "execution_count": 56,
   "id": "88ed84bd-9e26-4873-aaf2-3af876237e10",
   "metadata": {},
   "outputs": [
    {
     "data": {
      "text/plain": [
       "False"
      ]
     },
     "execution_count": 56,
     "metadata": {},
     "output_type": "execute_result"
    }
   ],
   "source": [
    "B1.issubset(A1)"
   ]
  },
  {
   "cell_type": "code",
   "execution_count": 57,
   "id": "4a7fd721-9157-4736-afe4-d73fd755056f",
   "metadata": {},
   "outputs": [
    {
     "data": {
      "text/plain": [
       "False"
      ]
     },
     "execution_count": 57,
     "metadata": {},
     "output_type": "execute_result"
    }
   ],
   "source": [
    "A1.issuperset(B1)"
   ]
  },
  {
   "cell_type": "code",
   "execution_count": 58,
   "id": "8656a75a-f982-4421-bcc4-fdda954ddad0",
   "metadata": {},
   "outputs": [
    {
     "data": {
      "text/plain": [
       "True"
      ]
     },
     "execution_count": 58,
     "metadata": {},
     "output_type": "execute_result"
    }
   ],
   "source": [
    "C1.isdisjoint(B1)"
   ]
  },
  {
   "cell_type": "code",
   "execution_count": null,
   "id": "d1729b14-66d3-4312-aa7a-464f60335eca",
   "metadata": {},
   "outputs": [],
   "source": []
  }
 ],
 "metadata": {
  "kernelspec": {
   "display_name": "Python 3 (ipykernel)",
   "language": "python",
   "name": "python3"
  },
  "language_info": {
   "codemirror_mode": {
    "name": "ipython",
    "version": 3
   },
   "file_extension": ".py",
   "mimetype": "text/x-python",
   "name": "python",
   "nbconvert_exporter": "python",
   "pygments_lexer": "ipython3",
   "version": "3.11.7"
  }
 },
 "nbformat": 4,
 "nbformat_minor": 5
}
