{
 "cells": [
  {
   "cell_type": "markdown",
   "id": "144a21b9-3dda-4fdc-8260-bae1d30fd5c4",
   "metadata": {},
   "source": [
    "**List Creation**\n",
    "1. List is an orderd sequence of items.\n",
    "2. We can have different data types under a list."
   ]
  },
  {
   "cell_type": "code",
   "execution_count": 1,
   "id": "a50c248b-9361-4342-b279-6db0c6790fb7",
   "metadata": {},
   "outputs": [],
   "source": [
    "list1 = [] #empty list"
   ]
  },
  {
   "cell_type": "code",
   "execution_count": 2,
   "id": "8dde8a0a-fc31-4eda-9158-a0084a1f0b97",
   "metadata": {},
   "outputs": [
    {
     "name": "stdout",
     "output_type": "stream",
     "text": [
      "<class 'list'>\n"
     ]
    }
   ],
   "source": [
    "print(type(list1))"
   ]
  },
  {
   "cell_type": "code",
   "execution_count": 3,
   "id": "277d2b5c-da5f-43f4-a8f2-63414b90d896",
   "metadata": {},
   "outputs": [],
   "source": [
    "list2 = [10,30,60] # list of integers"
   ]
  },
  {
   "cell_type": "code",
   "execution_count": 4,
   "id": "43dfdf64-52f6-468d-83c2-5558df89ed82",
   "metadata": {},
   "outputs": [],
   "source": [
    "list3 = [10.77,30.88,36.99] # list of floats"
   ]
  },
  {
   "cell_type": "code",
   "execution_count": 5,
   "id": "7a99670c-0f4f-4842-945d-f0b05e5e9ace",
   "metadata": {},
   "outputs": [],
   "source": [
    "list4 = ['one','two','three']#list of strings"
   ]
  },
  {
   "cell_type": "code",
   "execution_count": 7,
   "id": "f65d95fd-11b3-4c27-8f32-4cc2b62d9e61",
   "metadata": {},
   "outputs": [],
   "source": [
    "list5 = ['As',34,[50,100],[150,90]]#Nested list"
   ]
  },
  {
   "cell_type": "code",
   "execution_count": 8,
   "id": "18ee16a1-304b-4e30-9ade-68682acbd692",
   "metadata": {},
   "outputs": [],
   "source": [
    "list6 = ['gar',25,[50,100],[150,90],{'John','David'}]"
   ]
  },
  {
   "cell_type": "code",
   "execution_count": 9,
   "id": "8d5f5bc3-18e9-43b8-ac33-af7db76c8c36",
   "metadata": {},
   "outputs": [
    {
     "data": {
      "text/plain": [
       "5"
      ]
     },
     "execution_count": 9,
     "metadata": {},
     "output_type": "execute_result"
    }
   ],
   "source": [
    "len(list6)"
   ]
  },
  {
   "cell_type": "markdown",
   "id": "030ac224-0494-4776-80e4-8c6abdbbfae9",
   "metadata": {},
   "source": [
    "**List Indexing**"
   ]
  },
  {
   "cell_type": "code",
   "execution_count": 11,
   "id": "7d29e2d5-0265-4e73-ab7d-68d495a5d583",
   "metadata": {},
   "outputs": [
    {
     "data": {
      "text/plain": [
       "10"
      ]
     },
     "execution_count": 11,
     "metadata": {},
     "output_type": "execute_result"
    }
   ],
   "source": [
    "list2[0]"
   ]
  },
  {
   "cell_type": "code",
   "execution_count": 12,
   "id": "03545daf-3ed0-4053-9334-bc2fc8107115",
   "metadata": {},
   "outputs": [
    {
     "data": {
      "text/plain": [
       "'one'"
      ]
     },
     "execution_count": 12,
     "metadata": {},
     "output_type": "execute_result"
    }
   ],
   "source": [
    "list4[0]"
   ]
  },
  {
   "cell_type": "code",
   "execution_count": 15,
   "id": "225611cd-ba87-4707-b588-8ea807d844a8",
   "metadata": {},
   "outputs": [
    {
     "data": {
      "text/plain": [
       "'one'"
      ]
     },
     "execution_count": 15,
     "metadata": {},
     "output_type": "execute_result"
    }
   ],
   "source": [
    "list4[-3]"
   ]
  },
  {
   "cell_type": "code",
   "execution_count": 16,
   "id": "c733f729-e9f1-4a9d-8a42-b71da71e386f",
   "metadata": {},
   "outputs": [
    {
     "data": {
      "text/plain": [
       "list[-1]"
      ]
     },
     "execution_count": 16,
     "metadata": {},
     "output_type": "execute_result"
    }
   ],
   "source": [
    "list[-1]"
   ]
  },
  {
   "cell_type": "markdown",
   "id": "e36db5e5-86bc-4293-ac59-edd25b6cfbd3",
   "metadata": {},
   "source": [
    "**List Slicing**"
   ]
  },
  {
   "cell_type": "code",
   "execution_count": 18,
   "id": "c299f32c-f990-4414-94b2-a4d4ddc9aab2",
   "metadata": {},
   "outputs": [],
   "source": [
    "mylist = ['one','two','three','four','five','six','seven','eight']"
   ]
  },
  {
   "cell_type": "code",
   "execution_count": 19,
   "id": "94fc4b41-7561-41a1-abab-261438f2aa58",
   "metadata": {},
   "outputs": [
    {
     "data": {
      "text/plain": [
       "['one', 'two', 'three']"
      ]
     },
     "execution_count": 19,
     "metadata": {},
     "output_type": "execute_result"
    }
   ],
   "source": [
    "mylist[0:3]"
   ]
  },
  {
   "cell_type": "code",
   "execution_count": 20,
   "id": "05fea669-485e-4a9c-a054-d4a8faa3a68b",
   "metadata": {},
   "outputs": [
    {
     "data": {
      "text/plain": [
       "['three', 'four', 'five']"
      ]
     },
     "execution_count": 20,
     "metadata": {},
     "output_type": "execute_result"
    }
   ],
   "source": [
    "mylist[2:5]"
   ]
  },
  {
   "cell_type": "code",
   "execution_count": 21,
   "id": "706db273-95d8-4a7c-a9f3-50b9d4f218fa",
   "metadata": {},
   "outputs": [
    {
     "data": {
      "text/plain": [
       "['one', 'two', 'three']"
      ]
     },
     "execution_count": 21,
     "metadata": {},
     "output_type": "execute_result"
    }
   ],
   "source": [
    "mylist[:3]"
   ]
  },
  {
   "cell_type": "code",
   "execution_count": 22,
   "id": "c5592783-d757-427c-8a49-eb3c5304fdb4",
   "metadata": {},
   "outputs": [
    {
     "data": {
      "text/plain": [
       "['one', 'two']"
      ]
     },
     "execution_count": 22,
     "metadata": {},
     "output_type": "execute_result"
    }
   ],
   "source": [
    "mylist[:2]"
   ]
  },
  {
   "cell_type": "code",
   "execution_count": 23,
   "id": "e3473ebc-a506-41a8-866c-835065e9a20f",
   "metadata": {},
   "outputs": [
    {
     "data": {
      "text/plain": [
       "['six', 'seven', 'eight']"
      ]
     },
     "execution_count": 23,
     "metadata": {},
     "output_type": "execute_result"
    }
   ],
   "source": [
    "mylist[-3:]"
   ]
  },
  {
   "cell_type": "code",
   "execution_count": 24,
   "id": "c46e708c-ca0c-4330-9e0e-031e0973b9c6",
   "metadata": {},
   "outputs": [
    {
     "data": {
      "text/plain": [
       "['seven', 'eight']"
      ]
     },
     "execution_count": 24,
     "metadata": {},
     "output_type": "execute_result"
    }
   ],
   "source": [
    "mylist[-2:]"
   ]
  },
  {
   "cell_type": "code",
   "execution_count": 25,
   "id": "c37e7f8b-93be-4f05-a879-00cf4146757b",
   "metadata": {},
   "outputs": [
    {
     "data": {
      "text/plain": [
       "'eight'"
      ]
     },
     "execution_count": 25,
     "metadata": {},
     "output_type": "execute_result"
    }
   ],
   "source": [
    "mylist[-1]"
   ]
  },
  {
   "cell_type": "code",
   "execution_count": 26,
   "id": "80502f5f-8dd2-4b4f-b3a9-2de83c53a087",
   "metadata": {},
   "outputs": [
    {
     "data": {
      "text/plain": [
       "['one', 'two', 'three', 'four', 'five', 'six', 'seven', 'eight']"
      ]
     },
     "execution_count": 26,
     "metadata": {},
     "output_type": "execute_result"
    }
   ],
   "source": [
    "mylist[:]"
   ]
  },
  {
   "cell_type": "markdown",
   "id": "6c1aa531-cbc3-4af8-a311-29a633a695ba",
   "metadata": {},
   "source": [
    "**Add , Remove & Change items**"
   ]
  },
  {
   "cell_type": "code",
   "execution_count": 27,
   "id": "90a68b1f-c9a2-426f-af87-ce6cfa84a7be",
   "metadata": {},
   "outputs": [
    {
     "data": {
      "text/plain": [
       "['one', 'two', 'three', 'four', 'five', 'six', 'seven', 'eight']"
      ]
     },
     "execution_count": 27,
     "metadata": {},
     "output_type": "execute_result"
    }
   ],
   "source": [
    "mylist"
   ]
  },
  {
   "cell_type": "code",
   "execution_count": 29,
   "id": "cbc33ed4-2b30-4dea-88df-a4673a346c3d",
   "metadata": {},
   "outputs": [
    {
     "data": {
      "text/plain": [
       "['one',\n",
       " 'two',\n",
       " 'three',\n",
       " 'four',\n",
       " 'five',\n",
       " 'six',\n",
       " 'seven',\n",
       " 'eight',\n",
       " 'nine',\n",
       " 'nine']"
      ]
     },
     "execution_count": 29,
     "metadata": {},
     "output_type": "execute_result"
    }
   ],
   "source": [
    "mylist.append('nine') # Add an item to the end of the list\n",
    "mylist"
   ]
  },
  {
   "cell_type": "code",
   "execution_count": 31,
   "id": "02a74376-ded9-422f-9fb9-02ab2cd52a1f",
   "metadata": {},
   "outputs": [
    {
     "data": {
      "text/plain": [
       "['one',\n",
       " 'two',\n",
       " 'three',\n",
       " 'four',\n",
       " 'five',\n",
       " 'six',\n",
       " 'seven',\n",
       " 'eight',\n",
       " 'nine',\n",
       " 'ten',\n",
       " 'ten',\n",
       " 'nine']"
      ]
     },
     "execution_count": 31,
     "metadata": {},
     "output_type": "execute_result"
    }
   ],
   "source": [
    "mylist.insert(9,'ten')# Add item at index location 9\n",
    "mylist"
   ]
  },
  {
   "cell_type": "code",
   "execution_count": 33,
   "id": "2c7a18b4-2835-4f7a-b8d5-b577c8583d4b",
   "metadata": {},
   "outputs": [
    {
     "data": {
      "text/plain": [
       "['one',\n",
       " 'ONE',\n",
       " 'ONE',\n",
       " 'two',\n",
       " 'three',\n",
       " 'four',\n",
       " 'five',\n",
       " 'six',\n",
       " 'seven',\n",
       " 'eight',\n",
       " 'nine',\n",
       " 'ten',\n",
       " 'ten',\n",
       " 'nine']"
      ]
     },
     "execution_count": 33,
     "metadata": {},
     "output_type": "execute_result"
    }
   ],
   "source": [
    "mylist.insert(1,'ONE')# Add item at index location 1\n",
    "mylist"
   ]
  },
  {
   "cell_type": "code",
   "execution_count": 35,
   "id": "1590d881-8914-4dd2-a062-a890bb85af38",
   "metadata": {},
   "outputs": [
    {
     "data": {
      "text/plain": [
       "['one',\n",
       " 'two',\n",
       " 'three',\n",
       " 'four',\n",
       " 'five',\n",
       " 'six',\n",
       " 'seven',\n",
       " 'eight',\n",
       " 'nine',\n",
       " 'ten',\n",
       " 'ten',\n",
       " 'nine']"
      ]
     },
     "execution_count": 35,
     "metadata": {},
     "output_type": "execute_result"
    }
   ],
   "source": [
    "mylist.remove('ONE')# Remove item 'ONE'\n",
    "mylist"
   ]
  },
  {
   "cell_type": "code",
   "execution_count": 36,
   "id": "e811d299-0917-48fa-8bf9-f1c396b7d1ca",
   "metadata": {},
   "outputs": [
    {
     "data": {
      "text/plain": [
       "'nine'"
      ]
     },
     "execution_count": 36,
     "metadata": {},
     "output_type": "execute_result"
    }
   ],
   "source": [
    "mylist.pop()#Remove last item of the list"
   ]
  },
  {
   "cell_type": "code",
   "execution_count": 37,
   "id": "c23ce872-245f-4113-840b-336be3ac77bd",
   "metadata": {},
   "outputs": [
    {
     "data": {
      "text/plain": [
       "'nine'"
      ]
     },
     "execution_count": 37,
     "metadata": {},
     "output_type": "execute_result"
    }
   ],
   "source": [
    "mylist.pop(8)#Remove item at index location 8"
   ]
  },
  {
   "cell_type": "code",
   "execution_count": 39,
   "id": "a5c3c9f6-6e7a-42a9-9e81-67f2171734d3",
   "metadata": {},
   "outputs": [
    {
     "data": {
      "text/plain": [
       "['one', 'two', 'three', 'four', 'five', 'six', 'seven', 'ten']"
      ]
     },
     "execution_count": 39,
     "metadata": {},
     "output_type": "execute_result"
    }
   ],
   "source": [
    "del mylist[7] # Remove item at index location 7\n",
    "mylist"
   ]
  },
  {
   "cell_type": "code",
   "execution_count": 41,
   "id": "9e56fa2c-d775-49d5-ad7f-8d355f6fa409",
   "metadata": {},
   "outputs": [
    {
     "data": {
      "text/plain": [
       "[1, 2, 3, 'four', 'five', 'six', 'seven', 'ten']"
      ]
     },
     "execution_count": 41,
     "metadata": {},
     "output_type": "execute_result"
    }
   ],
   "source": [
    "#Change the value of string \n",
    "mylist[0] = 1\n",
    "mylist[1] = 2\n",
    "mylist[2] = 3\n",
    "mylist"
   ]
  },
  {
   "cell_type": "code",
   "execution_count": 43,
   "id": "d14d06f2-b236-44f9-9f9a-5d89ed245f60",
   "metadata": {},
   "outputs": [
    {
     "data": {
      "text/plain": [
       "[]"
      ]
     },
     "execution_count": 43,
     "metadata": {},
     "output_type": "execute_result"
    }
   ],
   "source": [
    "mylist.clear() #Empty list / Delete all items in the list\n",
    "mylist"
   ]
  },
  {
   "cell_type": "code",
   "execution_count": 44,
   "id": "94c00ebf-f6c9-4757-b6f7-019078a9b5f1",
   "metadata": {},
   "outputs": [
    {
     "ename": "NameError",
     "evalue": "name 'mylist' is not defined",
     "output_type": "error",
     "traceback": [
      "\u001b[1;31m---------------------------------------------------------------------------\u001b[0m",
      "\u001b[1;31mNameError\u001b[0m                                 Traceback (most recent call last)",
      "Cell \u001b[1;32mIn[44], line 2\u001b[0m\n\u001b[0;32m      1\u001b[0m \u001b[38;5;28;01mdel\u001b[39;00m mylist \u001b[38;5;66;03m# Delete the whole list\u001b[39;00m\n\u001b[1;32m----> 2\u001b[0m mylist\n",
      "\u001b[1;31mNameError\u001b[0m: name 'mylist' is not defined"
     ]
    }
   ],
   "source": [
    "del mylist # Delete the whole list\n",
    "mylist"
   ]
  },
  {
   "cell_type": "markdown",
   "id": "03ad80b5-9fc8-40b2-a47b-9eeae43cd512",
   "metadata": {},
   "source": [
    "**Copy List**"
   ]
  },
  {
   "cell_type": "code",
   "execution_count": 45,
   "id": "09caf61b-ed2f-4811-a353-f9c8b87984a6",
   "metadata": {},
   "outputs": [],
   "source": [
    "mylist = ['one','two','three','four','five','six','seven','eight']"
   ]
  },
  {
   "cell_type": "code",
   "execution_count": 46,
   "id": "86e659ee-8e51-4a16-9750-53dd00de895c",
   "metadata": {},
   "outputs": [],
   "source": [
    "mylist1 = mylist "
   ]
  },
  {
   "cell_type": "code",
   "execution_count": 47,
   "id": "bb168b0c-c742-4e87-9b81-410905a61882",
   "metadata": {},
   "outputs": [
    {
     "data": {
      "text/plain": [
       "(2897425996608, 2897425996608)"
      ]
     },
     "execution_count": 47,
     "metadata": {},
     "output_type": "execute_result"
    }
   ],
   "source": [
    "id(mylist) , id(mylist1) #The address of both mylist & mylist1 will be the same "
   ]
  },
  {
   "cell_type": "code",
   "execution_count": 48,
   "id": "ebf5be85-b8af-4626-8f3e-589ecddbf34d",
   "metadata": {},
   "outputs": [],
   "source": [
    "mylist2 = mylist.copy() #Create a copy of the list"
   ]
  },
  {
   "cell_type": "code",
   "execution_count": 49,
   "id": "4a553763-57f4-40d5-8f44-e71e224f7118",
   "metadata": {},
   "outputs": [
    {
     "data": {
      "text/plain": [
       "2897407693504"
      ]
     },
     "execution_count": 49,
     "metadata": {},
     "output_type": "execute_result"
    }
   ],
   "source": [
    "id(mylist2)#The address of mylist2 will be different from mylist "
   ]
  },
  {
   "cell_type": "code",
   "execution_count": 51,
   "id": "90028c92-0c2a-4acc-b4c0-7cbb1f3c6492",
   "metadata": {},
   "outputs": [
    {
     "data": {
      "text/plain": [
       "[1, 'two', 'three', 'four', 'five', 'six', 'seven', 'eight']"
      ]
     },
     "execution_count": 51,
     "metadata": {},
     "output_type": "execute_result"
    }
   ],
   "source": [
    "mylist[0]=1\n",
    "mylist"
   ]
  },
  {
   "cell_type": "code",
   "execution_count": 52,
   "id": "18eed9c4-f39b-4ee1-bbbe-06f018966b38",
   "metadata": {},
   "outputs": [
    {
     "data": {
      "text/plain": [
       "[1, 'two', 'three', 'four', 'five', 'six', 'seven', 'eight']"
      ]
     },
     "execution_count": 52,
     "metadata": {},
     "output_type": "execute_result"
    }
   ],
   "source": [
    "mylist1"
   ]
  },
  {
   "cell_type": "code",
   "execution_count": 53,
   "id": "12b35af5-9cbb-4fde-99c6-2e0defb8777a",
   "metadata": {},
   "outputs": [
    {
     "data": {
      "text/plain": [
       "['one', 'two', 'three', 'four', 'five', 'six', 'seven', 'eight']"
      ]
     },
     "execution_count": 53,
     "metadata": {},
     "output_type": "execute_result"
    }
   ],
   "source": [
    "mylist2"
   ]
  },
  {
   "cell_type": "markdown",
   "id": "35d3b5c6-b7af-481f-93e5-e5be54872c9b",
   "metadata": {},
   "source": [
    "**Join Lists**"
   ]
  },
  {
   "cell_type": "code",
   "execution_count": 55,
   "id": "0179c695-73fa-41ae-b843-2756e467144c",
   "metadata": {},
   "outputs": [],
   "source": [
    "list1 = ['one','two','three','four']\n",
    "list2 = ['five','six','seven','eight']"
   ]
  },
  {
   "cell_type": "code",
   "execution_count": 56,
   "id": "5696b493-ec61-4a5e-8663-c205f181a784",
   "metadata": {},
   "outputs": [
    {
     "data": {
      "text/plain": [
       "['one', 'two', 'three', 'four', 'five', 'six', 'seven', 'eight']"
      ]
     },
     "execution_count": 56,
     "metadata": {},
     "output_type": "execute_result"
    }
   ],
   "source": [
    "list3 = list1 + list2 \n",
    "list3"
   ]
  },
  {
   "cell_type": "code",
   "execution_count": 58,
   "id": "899d2984-e402-4588-97fb-fae0453346c3",
   "metadata": {},
   "outputs": [
    {
     "data": {
      "text/plain": [
       "['one',\n",
       " 'two',\n",
       " 'three',\n",
       " 'four',\n",
       " 'five',\n",
       " 'six',\n",
       " 'seven',\n",
       " 'eight',\n",
       " 'five',\n",
       " 'six',\n",
       " 'seven',\n",
       " 'eight']"
      ]
     },
     "execution_count": 58,
     "metadata": {},
     "output_type": "execute_result"
    }
   ],
   "source": [
    "list1.extend(list2) #Append list2 with list1\n",
    "list1"
   ]
  },
  {
   "cell_type": "markdown",
   "id": "1677a2d7-4bd8-40a9-bb67-44ef7b5c32b2",
   "metadata": {},
   "source": [
    "**List Membership**"
   ]
  },
  {
   "cell_type": "code",
   "execution_count": 59,
   "id": "fe3a96bb-075a-4d73-8f5a-f552d5e01847",
   "metadata": {},
   "outputs": [
    {
     "data": {
      "text/plain": [
       "['one',\n",
       " 'two',\n",
       " 'three',\n",
       " 'four',\n",
       " 'five',\n",
       " 'six',\n",
       " 'seven',\n",
       " 'eight',\n",
       " 'five',\n",
       " 'six',\n",
       " 'seven',\n",
       " 'eight']"
      ]
     },
     "execution_count": 59,
     "metadata": {},
     "output_type": "execute_result"
    }
   ],
   "source": [
    "list1"
   ]
  },
  {
   "cell_type": "code",
   "execution_count": 60,
   "id": "85d96b85-0a8b-4acb-b17f-3a4d2e2ecfac",
   "metadata": {},
   "outputs": [
    {
     "data": {
      "text/plain": [
       "True"
      ]
     },
     "execution_count": 60,
     "metadata": {},
     "output_type": "execute_result"
    }
   ],
   "source": [
    "'one' in list1 #Check if 'one' exist in the list"
   ]
  },
  {
   "cell_type": "code",
   "execution_count": 61,
   "id": "0f0509a2-2adf-4c0d-a719-a4de2a15e9f9",
   "metadata": {},
   "outputs": [
    {
     "data": {
      "text/plain": [
       "False"
      ]
     },
     "execution_count": 61,
     "metadata": {},
     "output_type": "execute_result"
    }
   ],
   "source": [
    "'ten' in list1 #Check if 'ten' exist in the list"
   ]
  },
  {
   "cell_type": "code",
   "execution_count": 62,
   "id": "c67dd1ca-266d-4d84-a3ad-c0c2dd2ce8e3",
   "metadata": {},
   "outputs": [
    {
     "name": "stdout",
     "output_type": "stream",
     "text": [
      "Three is present in the list\n"
     ]
    }
   ],
   "source": [
    "if 'three' in list1:\n",
    "    print('Three is present in the list')\n",
    "else:\n",
    "    print('Three is not present in the list')"
   ]
  },
  {
   "cell_type": "markdown",
   "id": "cf5304a0-9988-44f6-b657-7826cc4f943c",
   "metadata": {},
   "source": [
    "**Reverse & Sort List**"
   ]
  },
  {
   "cell_type": "code",
   "execution_count": 63,
   "id": "69cdf8ee-d56c-496f-816f-376869143a3d",
   "metadata": {},
   "outputs": [
    {
     "data": {
      "text/plain": [
       "['one',\n",
       " 'two',\n",
       " 'three',\n",
       " 'four',\n",
       " 'five',\n",
       " 'six',\n",
       " 'seven',\n",
       " 'eight',\n",
       " 'five',\n",
       " 'six',\n",
       " 'seven',\n",
       " 'eight']"
      ]
     },
     "execution_count": 63,
     "metadata": {},
     "output_type": "execute_result"
    }
   ],
   "source": [
    "list1"
   ]
  },
  {
   "cell_type": "code",
   "execution_count": 65,
   "id": "812d307f-014a-4884-8b2b-bcbfc8b351b1",
   "metadata": {},
   "outputs": [
    {
     "data": {
      "text/plain": [
       "['one',\n",
       " 'two',\n",
       " 'three',\n",
       " 'four',\n",
       " 'five',\n",
       " 'six',\n",
       " 'seven',\n",
       " 'eight',\n",
       " 'five',\n",
       " 'six',\n",
       " 'seven',\n",
       " 'eight']"
      ]
     },
     "execution_count": 65,
     "metadata": {},
     "output_type": "execute_result"
    }
   ],
   "source": [
    "list1.reverse()\n",
    "list1"
   ]
  },
  {
   "cell_type": "code",
   "execution_count": 66,
   "id": "2ccae006-e2c3-41d0-bcc5-a9f9d6dd36ca",
   "metadata": {},
   "outputs": [
    {
     "data": {
      "text/plain": [
       "['eight',\n",
       " 'seven',\n",
       " 'six',\n",
       " 'five',\n",
       " 'eight',\n",
       " 'seven',\n",
       " 'six',\n",
       " 'five',\n",
       " 'four',\n",
       " 'three',\n",
       " 'two',\n",
       " 'one']"
      ]
     },
     "execution_count": 66,
     "metadata": {},
     "output_type": "execute_result"
    }
   ],
   "source": [
    "list1 = list1[::-1]\n",
    "list1"
   ]
  },
  {
   "cell_type": "code",
   "execution_count": 67,
   "id": "bc9ac2e4-1eda-4a84-8622-96ba9e76b406",
   "metadata": {},
   "outputs": [
    {
     "data": {
      "text/plain": [
       "[2, 5, 9, 12, 34, 88, 99]"
      ]
     },
     "execution_count": 67,
     "metadata": {},
     "output_type": "execute_result"
    }
   ],
   "source": [
    "mylist3 = [9,5,2,99,12,88,34]\n",
    "mylist3.sort()\n",
    "mylist3"
   ]
  },
  {
   "cell_type": "code",
   "execution_count": 68,
   "id": "60ad9821-2d34-4d8b-a300-f40d6d3958c1",
   "metadata": {},
   "outputs": [
    {
     "data": {
      "text/plain": [
       "[11, 21, 33, 65, 88, 98]"
      ]
     },
     "execution_count": 68,
     "metadata": {},
     "output_type": "execute_result"
    }
   ],
   "source": [
    "mylist4 = [88,65,33,21,11,98] \n",
    "sorted(mylist4) # Returns a new sorted list and doesn't change original l "
   ]
  },
  {
   "cell_type": "code",
   "execution_count": 69,
   "id": "7cf31684-16e1-4aa8-8832-ce84f5a26d56",
   "metadata": {},
   "outputs": [
    {
     "data": {
      "text/plain": [
       "[88, 65, 33, 21, 11, 98]"
      ]
     },
     "execution_count": 69,
     "metadata": {},
     "output_type": "execute_result"
    }
   ],
   "source": [
    "mylist4"
   ]
  },
  {
   "cell_type": "markdown",
   "id": "ae859102-9a1e-4220-8304-fad4f844dcd3",
   "metadata": {},
   "source": [
    "**Loop through a List**"
   ]
  },
  {
   "cell_type": "code",
   "execution_count": 70,
   "id": "1b5ba769-bfd8-46ac-b779-482213f7ab9b",
   "metadata": {},
   "outputs": [
    {
     "data": {
      "text/plain": [
       "['eight',\n",
       " 'seven',\n",
       " 'six',\n",
       " 'five',\n",
       " 'eight',\n",
       " 'seven',\n",
       " 'six',\n",
       " 'five',\n",
       " 'four',\n",
       " 'three',\n",
       " 'two',\n",
       " 'one']"
      ]
     },
     "execution_count": 70,
     "metadata": {},
     "output_type": "execute_result"
    }
   ],
   "source": [
    "list1"
   ]
  },
  {
   "cell_type": "code",
   "execution_count": 71,
   "id": "c307f75a-9805-43b2-9ea9-2ebc1985b8bb",
   "metadata": {},
   "outputs": [
    {
     "name": "stdout",
     "output_type": "stream",
     "text": [
      "eight\n",
      "seven\n",
      "six\n",
      "five\n",
      "eight\n",
      "seven\n",
      "six\n",
      "five\n",
      "four\n",
      "three\n",
      "two\n",
      "one\n"
     ]
    }
   ],
   "source": [
    "for i in list1:\n",
    "    print(i)"
   ]
  },
  {
   "cell_type": "code",
   "execution_count": 72,
   "id": "20331268-e72c-49e9-b82b-34587fb31fdd",
   "metadata": {},
   "outputs": [
    {
     "name": "stdout",
     "output_type": "stream",
     "text": [
      "(0, 'eight')\n",
      "(1, 'seven')\n",
      "(2, 'six')\n",
      "(3, 'five')\n",
      "(4, 'eight')\n",
      "(5, 'seven')\n",
      "(6, 'six')\n",
      "(7, 'five')\n",
      "(8, 'four')\n",
      "(9, 'three')\n",
      "(10, 'two')\n",
      "(11, 'one')\n"
     ]
    }
   ],
   "source": [
    "for i in enumerate(list1):\n",
    "    print(i)"
   ]
  },
  {
   "cell_type": "markdown",
   "id": "7e81c34b-158b-47b5-9bf5-901d3d1a6cb9",
   "metadata": {},
   "source": [
    "**Count**"
   ]
  },
  {
   "cell_type": "code",
   "execution_count": 73,
   "id": "9212af4a-48e8-47d2-935c-85eceffafd9c",
   "metadata": {},
   "outputs": [],
   "source": [
    "list10 =['one', 'two', 'three', 'four', 'one', 'one', 'two', 'three'] "
   ]
  },
  {
   "cell_type": "code",
   "execution_count": 74,
   "id": "d2d40a10-3900-4ee2-b396-66dff170bcc8",
   "metadata": {},
   "outputs": [
    {
     "data": {
      "text/plain": [
       "3"
      ]
     },
     "execution_count": 74,
     "metadata": {},
     "output_type": "execute_result"
    }
   ],
   "source": [
    "list10.count('one')"
   ]
  },
  {
   "cell_type": "code",
   "execution_count": 75,
   "id": "a942fc6a-4e1a-4fec-b05f-97015bb19383",
   "metadata": {},
   "outputs": [
    {
     "data": {
      "text/plain": [
       "2"
      ]
     },
     "execution_count": 75,
     "metadata": {},
     "output_type": "execute_result"
    }
   ],
   "source": [
    "list10.count('two')"
   ]
  },
  {
   "cell_type": "markdown",
   "id": "3b94047a-7bd2-4dfe-af35-7f34c41a8f28",
   "metadata": {},
   "source": [
    "**All/Any**\n",
    "The **all()** methods returns :\n",
    ". **True** - If all elements in a list are true \n",
    ". **False** - If any elements in a list is false\n",
    "\n",
    "The **any()** returns True if any element in the list is True. If not,any() returns"
   ]
  },
  {
   "cell_type": "code",
   "execution_count": 77,
   "id": "117c8f6f-1c70-45d8-945b-3d76ce3359ac",
   "metadata": {},
   "outputs": [],
   "source": [
    "L1 = [1,2,3,4,0] "
   ]
  },
  {
   "cell_type": "code",
   "execution_count": 78,
   "id": "96c0fa6b-df2d-45fa-a234-53f964dc93f0",
   "metadata": {},
   "outputs": [
    {
     "data": {
      "text/plain": [
       "False"
      ]
     },
     "execution_count": 78,
     "metadata": {},
     "output_type": "execute_result"
    }
   ],
   "source": [
    "all(L1) # Will Return false as one value is false (Value 0) "
   ]
  },
  {
   "cell_type": "code",
   "execution_count": 79,
   "id": "91f03073-abf6-4a31-af4b-eb13e8cf3838",
   "metadata": {},
   "outputs": [
    {
     "data": {
      "text/plain": [
       "True"
      ]
     },
     "execution_count": 79,
     "metadata": {},
     "output_type": "execute_result"
    }
   ],
   "source": [
    "any(L1) # Will Return True as we have items in the list with True value "
   ]
  },
  {
   "cell_type": "code",
   "execution_count": 82,
   "id": "78193904-f7c0-4e83-90e5-5d1e03259add",
   "metadata": {},
   "outputs": [],
   "source": [
    "L2 = [1,2,3,4,True,False] "
   ]
  },
  {
   "cell_type": "code",
   "execution_count": 81,
   "id": "3962288e-8bb7-47da-aaff-a9867a2a6c9d",
   "metadata": {},
   "outputs": [
    {
     "data": {
      "text/plain": [
       "True"
      ]
     },
     "execution_count": 81,
     "metadata": {},
     "output_type": "execute_result"
    }
   ],
   "source": [
    "any(L2) # Will Return True as we have items in the list with True value"
   ]
  },
  {
   "cell_type": "code",
   "execution_count": 83,
   "id": "699840d7-e83b-4c44-babd-51d7b8c9277e",
   "metadata": {},
   "outputs": [
    {
     "data": {
      "text/plain": [
       "False"
      ]
     },
     "execution_count": 83,
     "metadata": {},
     "output_type": "execute_result"
    }
   ],
   "source": [
    "all(L2) # Returns false as one value is false"
   ]
  },
  {
   "cell_type": "code",
   "execution_count": 84,
   "id": "a2ce20bb-7c8a-4037-8ff5-c36f53fbcbc6",
   "metadata": {},
   "outputs": [],
   "source": [
    "L3 = [1,2,3,True] "
   ]
  },
  {
   "cell_type": "code",
   "execution_count": null,
   "id": "07a284d1-1c77-451f-95fb-0c21471351cd",
   "metadata": {},
   "outputs": [],
   "source": [
    "all"
   ]
  }
 ],
 "metadata": {
  "kernelspec": {
   "display_name": "Python 3 (ipykernel)",
   "language": "python",
   "name": "python3"
  },
  "language_info": {
   "codemirror_mode": {
    "name": "ipython",
    "version": 3
   },
   "file_extension": ".py",
   "mimetype": "text/x-python",
   "name": "python",
   "nbconvert_exporter": "python",
   "pygments_lexer": "ipython3",
   "version": "3.11.7"
  }
 },
 "nbformat": 4,
 "nbformat_minor": 5
}
