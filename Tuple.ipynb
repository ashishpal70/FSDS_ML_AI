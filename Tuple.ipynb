{
 "cells": [
  {
   "cell_type": "markdown",
   "id": "0ac9cb90-781a-4616-8f8a-e19c03108404",
   "metadata": {},
   "source": [
    "**Tuple creation**"
   ]
  },
  {
   "cell_type": "code",
   "execution_count": 3,
   "id": "38d9d2f0-0918-4d91-b840-c2928dc95ff0",
   "metadata": {},
   "outputs": [],
   "source": [
    "tup1 = () #Empty tuple"
   ]
  },
  {
   "cell_type": "code",
   "execution_count": 4,
   "id": "e860a227-22a4-4f83-9b2e-60b42821dfdf",
   "metadata": {},
   "outputs": [
    {
     "data": {
      "text/plain": [
       "tuple"
      ]
     },
     "execution_count": 4,
     "metadata": {},
     "output_type": "execute_result"
    }
   ],
   "source": [
    "type(tup1)"
   ]
  },
  {
   "cell_type": "code",
   "execution_count": 6,
   "id": "6e3a716c-a0f3-46e7-8f82-efe6e731cc70",
   "metadata": {},
   "outputs": [
    {
     "data": {
      "text/plain": [
       "(10, 20, 30)"
      ]
     },
     "execution_count": 6,
     "metadata": {},
     "output_type": "execute_result"
    }
   ],
   "source": [
    "tup2 = (10,20,30) # tuple of integers\n",
    "tup2"
   ]
  },
  {
   "cell_type": "code",
   "execution_count": 7,
   "id": "45119b0e-0836-4040-9e99-ae26277125ce",
   "metadata": {},
   "outputs": [],
   "source": [
    "tup3 = (10.77,30.66,60.89) # tuple of float numbers"
   ]
  },
  {
   "cell_type": "code",
   "execution_count": 8,
   "id": "275fb8f0-6de8-4173-a5e0-5f950689f479",
   "metadata": {},
   "outputs": [],
   "source": [
    "tup4 = ('one','two','three') # tuple of strings"
   ]
  },
  {
   "cell_type": "code",
   "execution_count": 9,
   "id": "05c62596-e2fd-4bf6-9b29-0141ee9dd6ca",
   "metadata": {},
   "outputs": [
    {
     "data": {
      "text/plain": [
       "('upb', 25, (50, 100), (150, 90))"
      ]
     },
     "execution_count": 9,
     "metadata": {},
     "output_type": "execute_result"
    }
   ],
   "source": [
    "tup5 = ('upb',25,(50,100),(150,90)) #Nested loops\n",
    "tup5"
   ]
  },
  {
   "cell_type": "code",
   "execution_count": 10,
   "id": "b4fed680-40d1-4ebc-abd8-faad049c317b",
   "metadata": {},
   "outputs": [],
   "source": [
    "tup6 = (100,'upb',17.65) #Tuple of mixed data types"
   ]
  },
  {
   "cell_type": "code",
   "execution_count": 12,
   "id": "2da2ca9c-a958-45ba-a581-3360f574b803",
   "metadata": {},
   "outputs": [
    {
     "data": {
      "text/plain": [
       "('upb', 25, [50, 100], [150, 90], {'Berlin', 'Paderborn'}, (99, 22, 33))"
      ]
     },
     "execution_count": 12,
     "metadata": {},
     "output_type": "execute_result"
    }
   ],
   "source": [
    "tup7 = ('upb',25,[50,100],[150,90],{'Paderborn','Berlin'},(99,22,33))\n",
    "tup7"
   ]
  },
  {
   "cell_type": "code",
   "execution_count": 13,
   "id": "84a45b54-f8e9-42ef-8314-625100f8fabb",
   "metadata": {},
   "outputs": [
    {
     "data": {
      "text/plain": [
       "6"
      ]
     },
     "execution_count": 13,
     "metadata": {},
     "output_type": "execute_result"
    }
   ],
   "source": [
    "len(tup7)"
   ]
  },
  {
   "cell_type": "markdown",
   "id": "98d8b1ba-0fc4-4f2c-b06a-37058bda9ec6",
   "metadata": {},
   "source": [
    "**Tuple Indexing**"
   ]
  },
  {
   "cell_type": "code",
   "execution_count": 14,
   "id": "23a92504-a1ce-42f3-b6b2-57ad4a140721",
   "metadata": {},
   "outputs": [
    {
     "data": {
      "text/plain": [
       "10"
      ]
     },
     "execution_count": 14,
     "metadata": {},
     "output_type": "execute_result"
    }
   ],
   "source": [
    "tup2[0] # Retreive first element of the tuple "
   ]
  },
  {
   "cell_type": "code",
   "execution_count": 15,
   "id": "d7c18981-aff2-4483-b01a-5d35fb31751a",
   "metadata": {},
   "outputs": [
    {
     "data": {
      "text/plain": [
       "'one'"
      ]
     },
     "execution_count": 15,
     "metadata": {},
     "output_type": "execute_result"
    }
   ],
   "source": [
    "tup4[0]"
   ]
  },
  {
   "cell_type": "code",
   "execution_count": 16,
   "id": "86ea3758-6c79-4aef-a90c-7fa2c2e725d6",
   "metadata": {},
   "outputs": [
    {
     "data": {
      "text/plain": [
       "'o'"
      ]
     },
     "execution_count": 16,
     "metadata": {},
     "output_type": "execute_result"
    }
   ],
   "source": [
    "tup4[0][0]"
   ]
  },
  {
   "cell_type": "code",
   "execution_count": 17,
   "id": "db684313-aba4-447f-b096-6cb80455f674",
   "metadata": {},
   "outputs": [
    {
     "data": {
      "text/plain": [
       "'three'"
      ]
     },
     "execution_count": 17,
     "metadata": {},
     "output_type": "execute_result"
    }
   ],
   "source": [
    "tup4[-1]"
   ]
  },
  {
   "cell_type": "code",
   "execution_count": 18,
   "id": "d86765f1-d10d-491b-b058-1b86d1da656a",
   "metadata": {},
   "outputs": [
    {
     "data": {
      "text/plain": [
       "(150, 90)"
      ]
     },
     "execution_count": 18,
     "metadata": {},
     "output_type": "execute_result"
    }
   ],
   "source": [
    "tup5[-1] # Last item of the tuple"
   ]
  },
  {
   "cell_type": "markdown",
   "id": "0a1c04c9-788c-44a2-972c-2d6d151e9ce8",
   "metadata": {},
   "source": [
    "**Tuple Slicing**"
   ]
  },
  {
   "cell_type": "code",
   "execution_count": 21,
   "id": "b7e70665-da23-4a1d-88f4-c22ff4a079f9",
   "metadata": {},
   "outputs": [
    {
     "data": {
      "text/plain": [
       "('one', 'two', 'three', 'four', 'five', 'six', 'seven', 'eight')"
      ]
     },
     "execution_count": 21,
     "metadata": {},
     "output_type": "execute_result"
    }
   ],
   "source": [
    "mytuple = ('one','two','three','four','five','six','seven','eight')\n",
    "mytuple"
   ]
  },
  {
   "cell_type": "code",
   "execution_count": 22,
   "id": "6bfae731-fdd7-4c07-8fc0-5f3fda2b3e04",
   "metadata": {},
   "outputs": [
    {
     "data": {
      "text/plain": [
       "('one', 'two', 'three')"
      ]
     },
     "execution_count": 22,
     "metadata": {},
     "output_type": "execute_result"
    }
   ],
   "source": [
    "mytuple[0:3] # Return all items from oth to 3rd index location excluding the item"
   ]
  },
  {
   "cell_type": "code",
   "execution_count": 23,
   "id": "fa3af086-4f71-440e-b6d3-cf25e6eeb49b",
   "metadata": {},
   "outputs": [
    {
     "data": {
      "text/plain": [
       "('three', 'four', 'five')"
      ]
     },
     "execution_count": 23,
     "metadata": {},
     "output_type": "execute_result"
    }
   ],
   "source": [
    "mytuple[2:5]"
   ]
  },
  {
   "cell_type": "code",
   "execution_count": 24,
   "id": "0d1b7f81-28f7-400a-97e5-3748ad353824",
   "metadata": {},
   "outputs": [
    {
     "data": {
      "text/plain": [
       "('one', 'two', 'three')"
      ]
     },
     "execution_count": 24,
     "metadata": {},
     "output_type": "execute_result"
    }
   ],
   "source": [
    "mytuple[:3]"
   ]
  },
  {
   "cell_type": "code",
   "execution_count": 25,
   "id": "f31ca6dc-de37-4862-a58d-53d8e9352504",
   "metadata": {},
   "outputs": [
    {
     "data": {
      "text/plain": [
       "('one', 'two')"
      ]
     },
     "execution_count": 25,
     "metadata": {},
     "output_type": "execute_result"
    }
   ],
   "source": [
    "mytuple[:2]"
   ]
  },
  {
   "cell_type": "code",
   "execution_count": 26,
   "id": "0a289916-bb5f-48d6-b355-61e40a8bd8cf",
   "metadata": {},
   "outputs": [
    {
     "data": {
      "text/plain": [
       "('six', 'seven', 'eight')"
      ]
     },
     "execution_count": 26,
     "metadata": {},
     "output_type": "execute_result"
    }
   ],
   "source": [
    "mytuple[-3:] # Return last three items"
   ]
  },
  {
   "cell_type": "code",
   "execution_count": 27,
   "id": "3a664325-3351-4be8-86da-954a385373cc",
   "metadata": {},
   "outputs": [
    {
     "data": {
      "text/plain": [
       "('seven', 'eight')"
      ]
     },
     "execution_count": 27,
     "metadata": {},
     "output_type": "execute_result"
    }
   ],
   "source": [
    "mytuple[-2:]"
   ]
  },
  {
   "cell_type": "code",
   "execution_count": 28,
   "id": "eb222854-a36f-421c-916a-f164bf829536",
   "metadata": {},
   "outputs": [
    {
     "data": {
      "text/plain": [
       "'eight'"
      ]
     },
     "execution_count": 28,
     "metadata": {},
     "output_type": "execute_result"
    }
   ],
   "source": [
    "mytuple[-1]"
   ]
  },
  {
   "cell_type": "code",
   "execution_count": 29,
   "id": "ea077a6f-2556-410d-8a10-bc58b55dd08b",
   "metadata": {},
   "outputs": [
    {
     "data": {
      "text/plain": [
       "('one', 'two', 'three', 'four', 'five', 'six', 'seven', 'eight')"
      ]
     },
     "execution_count": 29,
     "metadata": {},
     "output_type": "execute_result"
    }
   ],
   "source": [
    "mytuple[:] # Return whole tuple"
   ]
  },
  {
   "cell_type": "markdown",
   "id": "0ad9c86a-0408-48e8-b212-01fe55dcca61",
   "metadata": {},
   "source": [
    "**Remove & Change Items**"
   ]
  },
  {
   "cell_type": "code",
   "execution_count": 30,
   "id": "d875e303-7e74-4d8f-90ea-0a1b549f54a2",
   "metadata": {},
   "outputs": [
    {
     "data": {
      "text/plain": [
       "('one', 'two', 'three', 'four', 'five', 'six', 'seven', 'eight')"
      ]
     },
     "execution_count": 30,
     "metadata": {},
     "output_type": "execute_result"
    }
   ],
   "source": [
    "mytuple"
   ]
  },
  {
   "cell_type": "code",
   "execution_count": 31,
   "id": "2f45574d-a51e-4c91-a268-77e7a0d9326e",
   "metadata": {},
   "outputs": [
    {
     "ename": "TypeError",
     "evalue": "'tuple' object doesn't support item deletion",
     "output_type": "error",
     "traceback": [
      "\u001b[1;31m---------------------------------------------------------------------------\u001b[0m",
      "\u001b[1;31mTypeError\u001b[0m                                 Traceback (most recent call last)",
      "Cell \u001b[1;32mIn[31], line 1\u001b[0m\n\u001b[1;32m----> 1\u001b[0m \u001b[38;5;28;01mdel\u001b[39;00m mytuple[\u001b[38;5;241m0\u001b[39m]\n",
      "\u001b[1;31mTypeError\u001b[0m: 'tuple' object doesn't support item deletion"
     ]
    }
   ],
   "source": [
    "del mytuple[0] # Tuples are immutable which means we cannot delete tuple items"
   ]
  },
  {
   "cell_type": "code",
   "execution_count": 32,
   "id": "66434760-8a46-471b-98b2-24789594a680",
   "metadata": {},
   "outputs": [
    {
     "ename": "TypeError",
     "evalue": "'tuple' object does not support item assignment",
     "output_type": "error",
     "traceback": [
      "\u001b[1;31m---------------------------------------------------------------------------\u001b[0m",
      "\u001b[1;31mTypeError\u001b[0m                                 Traceback (most recent call last)",
      "Cell \u001b[1;32mIn[32], line 1\u001b[0m\n\u001b[1;32m----> 1\u001b[0m mytuple[\u001b[38;5;241m0\u001b[39m] \u001b[38;5;241m=\u001b[39m \u001b[38;5;241m1\u001b[39m\n",
      "\u001b[1;31mTypeError\u001b[0m: 'tuple' object does not support item assignment"
     ]
    }
   ],
   "source": [
    "mytuple[0] = 1 "
   ]
  },
  {
   "cell_type": "code",
   "execution_count": null,
   "id": "098f3286-5d52-49fa-8ee9-8414ae57cdfe",
   "metadata": {},
   "outputs": [],
   "source": [
    "del mytuple # Deleting entire tuple object is possible "
   ]
  },
  {
   "cell_type": "markdown",
   "id": "5e261349-19b6-4256-959e-c06f2a286b06",
   "metadata": {},
   "source": [
    "**Loop through a tuple**"
   ]
  },
  {
   "cell_type": "code",
   "execution_count": 33,
   "id": "b33a3b1a-e1fd-4064-8832-5d4778b8db15",
   "metadata": {},
   "outputs": [
    {
     "data": {
      "text/plain": [
       "('one', 'two', 'three', 'four', 'five', 'six', 'seven', 'eight')"
      ]
     },
     "execution_count": 33,
     "metadata": {},
     "output_type": "execute_result"
    }
   ],
   "source": [
    "mytuple"
   ]
  },
  {
   "cell_type": "code",
   "execution_count": 34,
   "id": "8f40b1da-3a09-4e55-8853-9f984d476036",
   "metadata": {},
   "outputs": [
    {
     "name": "stdout",
     "output_type": "stream",
     "text": [
      "one\n",
      "two\n",
      "three\n",
      "four\n",
      "five\n",
      "six\n",
      "seven\n",
      "eight\n"
     ]
    }
   ],
   "source": [
    "for i in mytuple:\n",
    "    print(i)"
   ]
  },
  {
   "cell_type": "code",
   "execution_count": 35,
   "id": "5b765616-2efe-408d-a294-cacae62d281b",
   "metadata": {},
   "outputs": [
    {
     "name": "stdout",
     "output_type": "stream",
     "text": [
      "(0, 'one')\n",
      "(1, 'two')\n",
      "(2, 'three')\n",
      "(3, 'four')\n",
      "(4, 'five')\n",
      "(5, 'six')\n",
      "(6, 'seven')\n",
      "(7, 'eight')\n"
     ]
    }
   ],
   "source": [
    "for i in enumerate(mytuple):\n",
    "    print(i)"
   ]
  },
  {
   "cell_type": "markdown",
   "id": "9d441401-4304-44fc-aad0-ca743652524a",
   "metadata": {},
   "source": [
    "**Tuple Membership**"
   ]
  },
  {
   "cell_type": "code",
   "execution_count": 36,
   "id": "f1fa355c-088d-4733-b3f6-3a68c55f98e1",
   "metadata": {},
   "outputs": [
    {
     "data": {
      "text/plain": [
       "('one', 'two', 'three', 'four', 'five', 'six', 'seven', 'eight')"
      ]
     },
     "execution_count": 36,
     "metadata": {},
     "output_type": "execute_result"
    }
   ],
   "source": [
    "mytuple"
   ]
  },
  {
   "cell_type": "code",
   "execution_count": 37,
   "id": "6fa12792-f8e4-4798-b7a2-fe73a697e19f",
   "metadata": {},
   "outputs": [
    {
     "data": {
      "text/plain": [
       "True"
      ]
     },
     "execution_count": 37,
     "metadata": {},
     "output_type": "execute_result"
    }
   ],
   "source": [
    "'one' in mytuple # check if 'one' exist in the list"
   ]
  },
  {
   "cell_type": "code",
   "execution_count": 38,
   "id": "a78cf4ec-690f-4b0f-94f0-daa1609fbbf1",
   "metadata": {},
   "outputs": [
    {
     "data": {
      "text/plain": [
       "False"
      ]
     },
     "execution_count": 38,
     "metadata": {},
     "output_type": "execute_result"
    }
   ],
   "source": [
    "'ten' in mytuple # check if 'ten' exist in the list"
   ]
  },
  {
   "cell_type": "code",
   "execution_count": 39,
   "id": "1c10cf20-da43-4d08-9460-15440b6fc6dd",
   "metadata": {},
   "outputs": [
    {
     "name": "stdout",
     "output_type": "stream",
     "text": [
      "Three is present in the tuple\n"
     ]
    }
   ],
   "source": [
    "if 'three' in mytuple:\n",
    "    print('Three is present in the tuple')\n",
    "else:\n",
    "    print('Three is not present in the tuple')"
   ]
  },
  {
   "cell_type": "code",
   "execution_count": 40,
   "id": "8c51b03f-7f6b-40fb-82e8-249186d1db02",
   "metadata": {},
   "outputs": [
    {
     "name": "stdout",
     "output_type": "stream",
     "text": [
      "eleven is not present in the tuple\n"
     ]
    }
   ],
   "source": [
    "if 'eleven' in mytuple:\n",
    "    print('eleven is present in the tuple')\n",
    "else:\n",
    "    print('eleven is not present in the tuple')"
   ]
  },
  {
   "cell_type": "markdown",
   "id": "8ece1b94-b6a6-4b03-80cd-849aea8ce695",
   "metadata": {},
   "source": [
    "**Index Position**"
   ]
  },
  {
   "cell_type": "code",
   "execution_count": 41,
   "id": "d329758f-84d9-45c7-9da8-089296973c28",
   "metadata": {},
   "outputs": [
    {
     "data": {
      "text/plain": [
       "('one', 'two', 'three', 'four', 'five', 'six', 'seven', 'eight')"
      ]
     },
     "execution_count": 41,
     "metadata": {},
     "output_type": "execute_result"
    }
   ],
   "source": [
    "mytuple"
   ]
  },
  {
   "cell_type": "code",
   "execution_count": 42,
   "id": "e38f9b08-7e3b-4ab1-be28-cb99c8791b41",
   "metadata": {},
   "outputs": [
    {
     "data": {
      "text/plain": [
       "0"
      ]
     },
     "execution_count": 42,
     "metadata": {},
     "output_type": "execute_result"
    }
   ],
   "source": [
    "mytuple.index('one')"
   ]
  },
  {
   "cell_type": "code",
   "execution_count": 43,
   "id": "f539d680-ddc0-4b5f-b4fa-a55a2d1088ec",
   "metadata": {},
   "outputs": [
    {
     "data": {
      "text/plain": [
       "4"
      ]
     },
     "execution_count": 43,
     "metadata": {},
     "output_type": "execute_result"
    }
   ],
   "source": [
    "mytuple.index('five')"
   ]
  },
  {
   "cell_type": "markdown",
   "id": "a9d29c98-3746-40e9-8dd6-0636724ce258",
   "metadata": {},
   "source": [
    "**Sorting**"
   ]
  },
  {
   "cell_type": "code",
   "execution_count": 46,
   "id": "9c7abf47-2eae-48a2-b4e6-d23b017a8bbf",
   "metadata": {},
   "outputs": [],
   "source": [
    "mytuple2 = (43,67,99,12,6,90,67)"
   ]
  },
  {
   "cell_type": "code",
   "execution_count": 47,
   "id": "d5c9c483-15db-469b-809a-0e0a1ebe6fc2",
   "metadata": {},
   "outputs": [
    {
     "data": {
      "text/plain": [
       "[6, 12, 43, 67, 67, 90, 99]"
      ]
     },
     "execution_count": 47,
     "metadata": {},
     "output_type": "execute_result"
    }
   ],
   "source": [
    "sorted(mytuple2) #Returns a new sorted list and does not change original tuple "
   ]
  },
  {
   "cell_type": "code",
   "execution_count": 48,
   "id": "8fc6ec05-5fd3-46c0-a43c-3810429411be",
   "metadata": {},
   "outputs": [
    {
     "data": {
      "text/plain": [
       "[99, 90, 67, 67, 43, 12, 6]"
      ]
     },
     "execution_count": 48,
     "metadata": {},
     "output_type": "execute_result"
    }
   ],
   "source": [
    "sorted(mytuple2,reverse=True) # Sort in descending order"
   ]
  },
  {
   "cell_type": "code",
   "execution_count": null,
   "id": "5cb5e224-cd4c-4ae3-8b2c-d35352c86c3e",
   "metadata": {},
   "outputs": [],
   "source": []
  }
 ],
 "metadata": {
  "kernelspec": {
   "display_name": "Python 3 (ipykernel)",
   "language": "python",
   "name": "python3"
  },
  "language_info": {
   "codemirror_mode": {
    "name": "ipython",
    "version": 3
   },
   "file_extension": ".py",
   "mimetype": "text/x-python",
   "name": "python",
   "nbconvert_exporter": "python",
   "pygments_lexer": "ipython3",
   "version": "3.11.7"
  }
 },
 "nbformat": 4,
 "nbformat_minor": 5
}
